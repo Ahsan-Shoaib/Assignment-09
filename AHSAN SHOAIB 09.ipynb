{
 "cells": [
  {
   "cell_type": "markdown",
   "id": "c69ac14e-5611-42af-8ca5-c95e408cea4f",
   "metadata": {},
   "source": [
    "# NUMPY\n",
    "# Question 01"
   ]
  },
  {
   "cell_type": "code",
   "execution_count": 1,
   "id": "5e38a525-6e06-45eb-982b-087dfb2e2fde",
   "metadata": {},
   "outputs": [
    {
     "name": "stdout",
     "output_type": "stream",
     "text": [
      "Addition:\n",
      " [ 6  8 10 12]\n"
     ]
    }
   ],
   "source": [
    "import numpy as np\n",
    "\n",
    "array1 = np.array([1, 2, 3, 4])\n",
    "array2 = np.array([5, 6, 7, 8])\n",
    "\n",
    "addition_result = array1 + array2\n",
    "print(\"Addition:\\n\", addition_result)"
   ]
  },
  {
   "cell_type": "code",
   "execution_count": 2,
   "id": "580c237e-8b52-48f7-b368-4c580d015c0d",
   "metadata": {},
   "outputs": [
    {
     "name": "stdout",
     "output_type": "stream",
     "text": [
      "Subtraction:\n",
      " [-4 -4 -4 -4]\n"
     ]
    }
   ],
   "source": [
    "subtraction_result = array1 - array2\n",
    "\n",
    "print(\"Subtraction:\\n\", subtraction_result)"
   ]
  },
  {
   "cell_type": "code",
   "execution_count": 3,
   "id": "83e86fc4-07d0-4fd3-81e7-7e2c751742fd",
   "metadata": {},
   "outputs": [
    {
     "name": "stdout",
     "output_type": "stream",
     "text": [
      "Multiplication:\n",
      " [ 5 12 21 32]\n"
     ]
    }
   ],
   "source": [
    "multiplication_result = array1 * array2\n",
    "\n",
    "print(\"Multiplication:\\n\", multiplication_result)"
   ]
  },
  {
   "cell_type": "code",
   "execution_count": 4,
   "id": "1c36708e-daf8-4bf6-a5e9-2dd40beb31fb",
   "metadata": {},
   "outputs": [
    {
     "name": "stdout",
     "output_type": "stream",
     "text": [
      "Division:\n",
      " [0.2        0.33333333 0.42857143 0.5       ]\n"
     ]
    }
   ],
   "source": [
    "division_result = array1 / array2\n",
    "\n",
    "print(\"Division:\\n\", division_result)"
   ]
  },
  {
   "cell_type": "markdown",
   "id": "720f79e6-3471-4155-9636-e51658cf8456",
   "metadata": {},
   "source": [
    "# Question 02"
   ]
  },
  {
   "cell_type": "code",
   "execution_count": 5,
   "id": "e5432f54-65e8-4cb2-841a-216efbfc903f",
   "metadata": {},
   "outputs": [
    {
     "name": "stdout",
     "output_type": "stream",
     "text": [
      "30\n",
      "6\n"
     ]
    }
   ],
   "source": [
    "array_1d = np.array([10, 20, 30, 40, 50])\n",
    "\n",
    "array_2d = np.array([[1, 2, 3], \n",
    "                     [4, 5, 6], \n",
    "                     [7, 8, 9]])\n",
    "\n",
    "\n",
    "# Indexing\n",
    "element_1d = array_1d[2]\n",
    "print(element_1d)\n",
    "\n",
    "element_2d = array_2d[1, 2]\n",
    "print(element_2d)"
   ]
  },
  {
   "cell_type": "code",
   "execution_count": 6,
   "id": "c833a7a0-e1d3-4439-955b-f44148425d78",
   "metadata": {},
   "outputs": [
    {
     "name": "stdout",
     "output_type": "stream",
     "text": [
      "[20 30]\n",
      "[[1 2]\n",
      " [4 5]]\n"
     ]
    }
   ],
   "source": [
    "# Slicing\n",
    "slice_1d = array_1d[1:3]\n",
    "print(slice_1d)\n",
    "\n",
    "slice_2d = array_2d[0:2, 0:2]\n",
    "print(slice_2d)"
   ]
  },
  {
   "cell_type": "markdown",
   "id": "fbe8acf8-0363-4403-bdc6-8ca72c560813",
   "metadata": {},
   "source": [
    "# Question 03"
   ]
  },
  {
   "cell_type": "code",
   "execution_count": 7,
   "id": "2229ae93-66b5-4e60-b37c-1e6c4665dbbb",
   "metadata": {},
   "outputs": [
    {
     "name": "stdout",
     "output_type": "stream",
     "text": [
      "Original 1D array:\n",
      " [ 0  1  2  3  4  5  6  7  8  9 10 11]\n"
     ]
    }
   ],
   "source": [
    "array_1d = np.arange(12)\n",
    "\n",
    "print(\"Original 1D array:\\n\", array_1d)"
   ]
  },
  {
   "cell_type": "code",
   "execution_count": 8,
   "id": "22e1f75b-7025-4970-a2a5-67cb400d608e",
   "metadata": {},
   "outputs": [
    {
     "name": "stdout",
     "output_type": "stream",
     "text": [
      "Reshaped to 2D array (3x4):\n",
      " [[ 0  1  2  3]\n",
      " [ 4  5  6  7]\n",
      " [ 8  9 10 11]]\n"
     ]
    }
   ],
   "source": [
    "array_2d = array_1d.reshape(3, 4)\n",
    "\n",
    "print(\"Reshaped to 2D array (3x4):\\n\", array_2d)"
   ]
  },
  {
   "cell_type": "code",
   "execution_count": 9,
   "id": "f64c146a-30ea-4cf0-890b-95ef9db7d3cc",
   "metadata": {},
   "outputs": [
    {
     "name": "stdout",
     "output_type": "stream",
     "text": [
      "Reshaped to 3D array (2x3x2):\n",
      " [[[ 0  1]\n",
      "  [ 2  3]\n",
      "  [ 4  5]]\n",
      "\n",
      " [[ 6  7]\n",
      "  [ 8  9]\n",
      "  [10 11]]]\n"
     ]
    }
   ],
   "source": [
    "array_3d = array_1d.reshape(2, 3, 2)\n",
    "\n",
    "print(\"Reshaped to 3D array (2x3x2):\\n\", array_3d)"
   ]
  },
  {
   "cell_type": "code",
   "execution_count": 10,
   "id": "82d382af-6a46-4ab0-bf18-093cea82e749",
   "metadata": {},
   "outputs": [
    {
     "name": "stdout",
     "output_type": "stream",
     "text": [
      "Transposed 2D array:\n",
      " [[ 0  4  8]\n",
      " [ 1  5  9]\n",
      " [ 2  6 10]\n",
      " [ 3  7 11]]\n"
     ]
    }
   ],
   "source": [
    "transposed_array = array_2d.T\n",
    "\n",
    "print(\"Transposed 2D array:\\n\", transposed_array)"
   ]
  },
  {
   "cell_type": "markdown",
   "id": "0a627ed0-335f-4e28-80a3-bec61217b8e9",
   "metadata": {},
   "source": [
    "# Question 04"
   ]
  },
  {
   "cell_type": "code",
   "execution_count": 11,
   "id": "e696f276-7107-4b9c-8812-a22442b06532",
   "metadata": {},
   "outputs": [
    {
     "name": "stdout",
     "output_type": "stream",
     "text": [
      "Mean: 30.0\n"
     ]
    }
   ],
   "source": [
    "data = np.array([10, 20, 30, 40, 50])\n",
    "\n",
    "mean_value = np.mean(data)\n",
    "print(\"Mean:\", mean_value)"
   ]
  },
  {
   "cell_type": "code",
   "execution_count": 12,
   "id": "7811f426-1e03-43b8-b1b3-52ffede255de",
   "metadata": {},
   "outputs": [
    {
     "name": "stdout",
     "output_type": "stream",
     "text": [
      "Median: 30.0\n"
     ]
    }
   ],
   "source": [
    "median_value = np.median(data)\n",
    "print(\"Median:\", median_value)"
   ]
  },
  {
   "cell_type": "code",
   "execution_count": 13,
   "id": "f39aea42-a69b-4262-9303-def4211c6d5c",
   "metadata": {},
   "outputs": [
    {
     "name": "stdout",
     "output_type": "stream",
     "text": [
      "Standard Deviation: 14.142135623730951\n"
     ]
    }
   ],
   "source": [
    "std_deviation = np.std(data)\n",
    "print(\"Standard Deviation:\", std_deviation)"
   ]
  },
  {
   "cell_type": "code",
   "execution_count": 14,
   "id": "a954c51e-641d-4eb1-bc50-6f46f2baa5b6",
   "metadata": {},
   "outputs": [
    {
     "name": "stdout",
     "output_type": "stream",
     "text": [
      "Variance: 200.0\n"
     ]
    }
   ],
   "source": [
    "variance_value = np.var(data)\n",
    "print(\"Variance:\", variance_value)"
   ]
  },
  {
   "cell_type": "markdown",
   "id": "270f2674-c9cd-42b3-b34e-08d4fb4c62a4",
   "metadata": {},
   "source": [
    "# Question 05"
   ]
  },
  {
   "cell_type": "code",
   "execution_count": 15,
   "id": "aeccada8-b757-4659-9f8a-66875a9383aa",
   "metadata": {},
   "outputs": [
    {
     "name": "stdout",
     "output_type": "stream",
     "text": [
      "[1 2 3 4 5]\n"
     ]
    }
   ],
   "source": [
    "int_array = np.array([1, 2, 3, 4, 5], dtype=int)\n",
    "\n",
    "print(int_array)"
   ]
  },
  {
   "cell_type": "code",
   "execution_count": 16,
   "id": "6435e97f-1829-4eb8-bbb0-c0c21d4ac8bc",
   "metadata": {},
   "outputs": [
    {
     "name": "stdout",
     "output_type": "stream",
     "text": [
      "[1.  2.5 3.7 4.8]\n"
     ]
    }
   ],
   "source": [
    "float_array = np.array([1.0, 2.5, 3.7, 4.8], dtype=float)\n",
    "\n",
    "print(float_array)"
   ]
  },
  {
   "cell_type": "code",
   "execution_count": 17,
   "id": "e0dc0af8-1aa7-496c-9828-f9a28bf07ed1",
   "metadata": {},
   "outputs": [
    {
     "name": "stdout",
     "output_type": "stream",
     "text": [
      "[ True False  True False]\n"
     ]
    }
   ],
   "source": [
    "bool_array = np.array([True, False, True, False], dtype=bool)\n",
    "\n",
    "print(bool_array)"
   ]
  },
  {
   "cell_type": "code",
   "execution_count": 18,
   "id": "9c0ef6f2-8890-4baf-8482-c02a5e4d771e",
   "metadata": {},
   "outputs": [
    {
     "name": "stdout",
     "output_type": "stream",
     "text": [
      "['apple' 'banana' 'cherry']\n"
     ]
    }
   ],
   "source": [
    "str_array = np.array([\"apple\", \"banana\", \"cherry\"], dtype=str)\n",
    "\n",
    "print(str_array)"
   ]
  },
  {
   "cell_type": "markdown",
   "id": "5ab5d4b0-54e5-475a-9257-7630f328d175",
   "metadata": {},
   "source": [
    "# Question 06"
   ]
  },
  {
   "cell_type": "code",
   "execution_count": 19,
   "id": "ae819b44-6116-44cb-9fe0-0f28b5422c53",
   "metadata": {},
   "outputs": [],
   "source": [
    "array1 = np.array([1, 2, 3])\n",
    "array2 = np.array([4, 5, 6])\n",
    "\n",
    "array3 = np.array([[1, 2, 3],\n",
    "                   [4, 5, 6]])\n",
    "array4 = np.array([[7, 8, 9],\n",
    "                   [10, 11, 12]])"
   ]
  },
  {
   "cell_type": "code",
   "execution_count": 20,
   "id": "e4b632c0-28b2-47dd-bc4e-9323c843188e",
   "metadata": {},
   "outputs": [
    {
     "name": "stdout",
     "output_type": "stream",
     "text": [
      "[1 2 3 4 5 6]\n"
     ]
    }
   ],
   "source": [
    "concatenated_1d = np.concatenate((array1, array2))\n",
    "\n",
    "print(concatenated_1d)"
   ]
  },
  {
   "cell_type": "code",
   "execution_count": 21,
   "id": "3b6e98c2-8ee6-4cbe-8645-ba4c53bb824c",
   "metadata": {},
   "outputs": [
    {
     "name": "stdout",
     "output_type": "stream",
     "text": [
      "[[ 1  2  3]\n",
      " [ 4  5  6]\n",
      " [ 7  8  9]\n",
      " [10 11 12]]\n"
     ]
    }
   ],
   "source": [
    "concatenated_vertical = np.concatenate((array3, array4), axis=0)\n",
    "\n",
    "print(concatenated_vertical)"
   ]
  },
  {
   "cell_type": "code",
   "execution_count": 22,
   "id": "5131a078-e891-4713-bf4d-e2608cb0fcca",
   "metadata": {},
   "outputs": [
    {
     "name": "stdout",
     "output_type": "stream",
     "text": [
      "[[ 1  2  3  7  8  9]\n",
      " [ 4  5  6 10 11 12]]\n"
     ]
    }
   ],
   "source": [
    "concatenated_horizontal = np.concatenate((array3, array4), axis=1)\n",
    "\n",
    "print(concatenated_horizontal)"
   ]
  },
  {
   "cell_type": "markdown",
   "id": "a45f4348-b5b2-4896-b4b8-42adaaf6d634",
   "metadata": {},
   "source": [
    "# Question 07"
   ]
  },
  {
   "cell_type": "code",
   "execution_count": 23,
   "id": "aa850bba-b091-49b0-af44-258cfec12a19",
   "metadata": {},
   "outputs": [
    {
     "name": "stdout",
     "output_type": "stream",
     "text": [
      "Original Array: [5 2 9 1 5 6]\n"
     ]
    }
   ],
   "source": [
    "array = np.array([5, 2, 9, 1, 5, 6])\n",
    "\n",
    "print(\"Original Array:\", array)"
   ]
  },
  {
   "cell_type": "code",
   "execution_count": 24,
   "id": "af7874c2-83fc-46fa-a2cf-eef954afe1e3",
   "metadata": {},
   "outputs": [
    {
     "name": "stdout",
     "output_type": "stream",
     "text": [
      "Sorted Array (Ascending): [1 2 5 5 6 9]\n"
     ]
    }
   ],
   "source": [
    "sorted_array_asc = np.sort(array)\n",
    "\n",
    "print(\"Sorted Array (Ascending):\", sorted_array_asc)"
   ]
  },
  {
   "cell_type": "code",
   "execution_count": 25,
   "id": "27d3540e-92bb-4912-a916-181d22b79ac8",
   "metadata": {},
   "outputs": [
    {
     "name": "stdout",
     "output_type": "stream",
     "text": [
      "Sorted Array (Descending): [9 6 5 5 2 1]\n"
     ]
    }
   ],
   "source": [
    "sorted_array_desc = np.sort(array)[::-1]\n",
    "\n",
    "print(\"Sorted Array (Descending):\", sorted_array_desc)"
   ]
  },
  {
   "cell_type": "code",
   "execution_count": 26,
   "id": "3eda8f39-de31-442d-a206-9a017a1b3c4e",
   "metadata": {},
   "outputs": [
    {
     "name": "stdout",
     "output_type": "stream",
     "text": [
      "Sorted 2D Array (Rows):\n",
      " [[2 5 9]\n",
      " [1 5 6]]\n"
     ]
    }
   ],
   "source": [
    "array_2d = np.array([[5, 2, 9],\n",
    "                     [1, 5, 6]])\n",
    "sorted_2d_rows = np.sort(array_2d, axis=1)\n",
    "\n",
    "print(\"Sorted 2D Array (Rows):\\n\", sorted_2d_rows)"
   ]
  },
  {
   "cell_type": "code",
   "execution_count": 27,
   "id": "199d4b85-54f1-4b30-b1a3-f4f1a74cd9ca",
   "metadata": {},
   "outputs": [
    {
     "name": "stdout",
     "output_type": "stream",
     "text": [
      "Sorted 2D Array (Columns):\n",
      " [[1 2 6]\n",
      " [5 5 9]]\n"
     ]
    }
   ],
   "source": [
    "sorted_2d_cols = np.sort(array_2d, axis=0)\n",
    "\n",
    "print(\"Sorted 2D Array (Columns):\\n\", sorted_2d_cols)"
   ]
  },
  {
   "cell_type": "markdown",
   "id": "d75d1a6c-6590-4efd-a4e8-5d6c041998d7",
   "metadata": {},
   "source": [
    "# PANDAS\n",
    "# Question 01"
   ]
  },
  {
   "cell_type": "code",
   "execution_count": 1,
   "id": "87addd20-3884-4459-8332-5043d98c2a51",
   "metadata": {},
   "outputs": [
    {
     "data": {
      "text/html": [
       "<div>\n",
       "<style scoped>\n",
       "    .dataframe tbody tr th:only-of-type {\n",
       "        vertical-align: middle;\n",
       "    }\n",
       "\n",
       "    .dataframe tbody tr th {\n",
       "        vertical-align: top;\n",
       "    }\n",
       "\n",
       "    .dataframe thead th {\n",
       "        text-align: right;\n",
       "    }\n",
       "</style>\n",
       "<table border=\"1\" class=\"dataframe\">\n",
       "  <thead>\n",
       "    <tr style=\"text-align: right;\">\n",
       "      <th></th>\n",
       "      <th>Ship Mode</th>\n",
       "      <th>Segment</th>\n",
       "      <th>Country</th>\n",
       "      <th>City</th>\n",
       "      <th>State</th>\n",
       "      <th>Postal Code</th>\n",
       "      <th>Region</th>\n",
       "      <th>Category</th>\n",
       "      <th>Sub-Category</th>\n",
       "      <th>Sales</th>\n",
       "      <th>Quantity</th>\n",
       "      <th>Discount</th>\n",
       "      <th>Profit</th>\n",
       "    </tr>\n",
       "  </thead>\n",
       "  <tbody>\n",
       "    <tr>\n",
       "      <th>0</th>\n",
       "      <td>Second Class</td>\n",
       "      <td>Consumer</td>\n",
       "      <td>United States</td>\n",
       "      <td>Henderson</td>\n",
       "      <td>Kentucky</td>\n",
       "      <td>42420</td>\n",
       "      <td>South</td>\n",
       "      <td>Furniture</td>\n",
       "      <td>Bookcases</td>\n",
       "      <td>261.9600</td>\n",
       "      <td>2</td>\n",
       "      <td>0.00</td>\n",
       "      <td>41.9136</td>\n",
       "    </tr>\n",
       "    <tr>\n",
       "      <th>1</th>\n",
       "      <td>Second Class</td>\n",
       "      <td>Consumer</td>\n",
       "      <td>United States</td>\n",
       "      <td>Henderson</td>\n",
       "      <td>Kentucky</td>\n",
       "      <td>42420</td>\n",
       "      <td>South</td>\n",
       "      <td>Furniture</td>\n",
       "      <td>Chairs</td>\n",
       "      <td>731.9400</td>\n",
       "      <td>3</td>\n",
       "      <td>0.00</td>\n",
       "      <td>219.5820</td>\n",
       "    </tr>\n",
       "    <tr>\n",
       "      <th>2</th>\n",
       "      <td>Second Class</td>\n",
       "      <td>Corporate</td>\n",
       "      <td>United States</td>\n",
       "      <td>Los Angeles</td>\n",
       "      <td>California</td>\n",
       "      <td>90036</td>\n",
       "      <td>West</td>\n",
       "      <td>Office Supplies</td>\n",
       "      <td>Labels</td>\n",
       "      <td>14.6200</td>\n",
       "      <td>2</td>\n",
       "      <td>0.00</td>\n",
       "      <td>6.8714</td>\n",
       "    </tr>\n",
       "    <tr>\n",
       "      <th>3</th>\n",
       "      <td>Standard Class</td>\n",
       "      <td>Consumer</td>\n",
       "      <td>United States</td>\n",
       "      <td>Fort Lauderdale</td>\n",
       "      <td>Florida</td>\n",
       "      <td>33311</td>\n",
       "      <td>South</td>\n",
       "      <td>Furniture</td>\n",
       "      <td>Tables</td>\n",
       "      <td>957.5775</td>\n",
       "      <td>5</td>\n",
       "      <td>0.45</td>\n",
       "      <td>-383.0310</td>\n",
       "    </tr>\n",
       "    <tr>\n",
       "      <th>4</th>\n",
       "      <td>Standard Class</td>\n",
       "      <td>Consumer</td>\n",
       "      <td>United States</td>\n",
       "      <td>Fort Lauderdale</td>\n",
       "      <td>Florida</td>\n",
       "      <td>33311</td>\n",
       "      <td>South</td>\n",
       "      <td>Office Supplies</td>\n",
       "      <td>Storage</td>\n",
       "      <td>22.3680</td>\n",
       "      <td>2</td>\n",
       "      <td>0.20</td>\n",
       "      <td>2.5164</td>\n",
       "    </tr>\n",
       "    <tr>\n",
       "      <th>...</th>\n",
       "      <td>...</td>\n",
       "      <td>...</td>\n",
       "      <td>...</td>\n",
       "      <td>...</td>\n",
       "      <td>...</td>\n",
       "      <td>...</td>\n",
       "      <td>...</td>\n",
       "      <td>...</td>\n",
       "      <td>...</td>\n",
       "      <td>...</td>\n",
       "      <td>...</td>\n",
       "      <td>...</td>\n",
       "      <td>...</td>\n",
       "    </tr>\n",
       "    <tr>\n",
       "      <th>9989</th>\n",
       "      <td>Second Class</td>\n",
       "      <td>Consumer</td>\n",
       "      <td>United States</td>\n",
       "      <td>Miami</td>\n",
       "      <td>Florida</td>\n",
       "      <td>33180</td>\n",
       "      <td>South</td>\n",
       "      <td>Furniture</td>\n",
       "      <td>Furnishings</td>\n",
       "      <td>25.2480</td>\n",
       "      <td>3</td>\n",
       "      <td>0.20</td>\n",
       "      <td>4.1028</td>\n",
       "    </tr>\n",
       "    <tr>\n",
       "      <th>9990</th>\n",
       "      <td>Standard Class</td>\n",
       "      <td>Consumer</td>\n",
       "      <td>United States</td>\n",
       "      <td>Costa Mesa</td>\n",
       "      <td>California</td>\n",
       "      <td>92627</td>\n",
       "      <td>West</td>\n",
       "      <td>Furniture</td>\n",
       "      <td>Furnishings</td>\n",
       "      <td>91.9600</td>\n",
       "      <td>2</td>\n",
       "      <td>0.00</td>\n",
       "      <td>15.6332</td>\n",
       "    </tr>\n",
       "    <tr>\n",
       "      <th>9991</th>\n",
       "      <td>Standard Class</td>\n",
       "      <td>Consumer</td>\n",
       "      <td>United States</td>\n",
       "      <td>Costa Mesa</td>\n",
       "      <td>California</td>\n",
       "      <td>92627</td>\n",
       "      <td>West</td>\n",
       "      <td>Technology</td>\n",
       "      <td>Phones</td>\n",
       "      <td>258.5760</td>\n",
       "      <td>2</td>\n",
       "      <td>0.20</td>\n",
       "      <td>19.3932</td>\n",
       "    </tr>\n",
       "    <tr>\n",
       "      <th>9992</th>\n",
       "      <td>Standard Class</td>\n",
       "      <td>Consumer</td>\n",
       "      <td>United States</td>\n",
       "      <td>Costa Mesa</td>\n",
       "      <td>California</td>\n",
       "      <td>92627</td>\n",
       "      <td>West</td>\n",
       "      <td>Office Supplies</td>\n",
       "      <td>Paper</td>\n",
       "      <td>29.6000</td>\n",
       "      <td>4</td>\n",
       "      <td>0.00</td>\n",
       "      <td>13.3200</td>\n",
       "    </tr>\n",
       "    <tr>\n",
       "      <th>9993</th>\n",
       "      <td>Second Class</td>\n",
       "      <td>Consumer</td>\n",
       "      <td>United States</td>\n",
       "      <td>Westminster</td>\n",
       "      <td>California</td>\n",
       "      <td>92683</td>\n",
       "      <td>West</td>\n",
       "      <td>Office Supplies</td>\n",
       "      <td>Appliances</td>\n",
       "      <td>243.1600</td>\n",
       "      <td>2</td>\n",
       "      <td>0.00</td>\n",
       "      <td>72.9480</td>\n",
       "    </tr>\n",
       "  </tbody>\n",
       "</table>\n",
       "<p>9994 rows × 13 columns</p>\n",
       "</div>"
      ],
      "text/plain": [
       "           Ship Mode    Segment        Country             City       State  \\\n",
       "0       Second Class   Consumer  United States        Henderson    Kentucky   \n",
       "1       Second Class   Consumer  United States        Henderson    Kentucky   \n",
       "2       Second Class  Corporate  United States      Los Angeles  California   \n",
       "3     Standard Class   Consumer  United States  Fort Lauderdale     Florida   \n",
       "4     Standard Class   Consumer  United States  Fort Lauderdale     Florida   \n",
       "...              ...        ...            ...              ...         ...   \n",
       "9989    Second Class   Consumer  United States            Miami     Florida   \n",
       "9990  Standard Class   Consumer  United States       Costa Mesa  California   \n",
       "9991  Standard Class   Consumer  United States       Costa Mesa  California   \n",
       "9992  Standard Class   Consumer  United States       Costa Mesa  California   \n",
       "9993    Second Class   Consumer  United States      Westminster  California   \n",
       "\n",
       "      Postal Code Region         Category Sub-Category     Sales  Quantity  \\\n",
       "0           42420  South        Furniture    Bookcases  261.9600         2   \n",
       "1           42420  South        Furniture       Chairs  731.9400         3   \n",
       "2           90036   West  Office Supplies       Labels   14.6200         2   \n",
       "3           33311  South        Furniture       Tables  957.5775         5   \n",
       "4           33311  South  Office Supplies      Storage   22.3680         2   \n",
       "...           ...    ...              ...          ...       ...       ...   \n",
       "9989        33180  South        Furniture  Furnishings   25.2480         3   \n",
       "9990        92627   West        Furniture  Furnishings   91.9600         2   \n",
       "9991        92627   West       Technology       Phones  258.5760         2   \n",
       "9992        92627   West  Office Supplies        Paper   29.6000         4   \n",
       "9993        92683   West  Office Supplies   Appliances  243.1600         2   \n",
       "\n",
       "      Discount    Profit  \n",
       "0         0.00   41.9136  \n",
       "1         0.00  219.5820  \n",
       "2         0.00    6.8714  \n",
       "3         0.45 -383.0310  \n",
       "4         0.20    2.5164  \n",
       "...        ...       ...  \n",
       "9989      0.20    4.1028  \n",
       "9990      0.00   15.6332  \n",
       "9991      0.20   19.3932  \n",
       "9992      0.00   13.3200  \n",
       "9993      0.00   72.9480  \n",
       "\n",
       "[9994 rows x 13 columns]"
      ]
     },
     "execution_count": 1,
     "metadata": {},
     "output_type": "execute_result"
    }
   ],
   "source": [
    "import pandas as pd\n",
    "\n",
    "df = pd.read_csv('retail supermarket.csv')\n",
    "df"
   ]
  },
  {
   "cell_type": "markdown",
   "id": "793e0d83-782a-40d3-8507-eeab99dbed29",
   "metadata": {},
   "source": [
    "# Question 02"
   ]
  },
  {
   "cell_type": "code",
   "execution_count": 2,
   "id": "f69f569f-c421-4982-ae48-09028dcc782a",
   "metadata": {},
   "outputs": [
    {
     "name": "stdout",
     "output_type": "stream",
     "text": [
      "(9994, 13)\n"
     ]
    }
   ],
   "source": [
    "print(df.shape)"
   ]
  },
  {
   "cell_type": "code",
   "execution_count": 3,
   "id": "393bba50-bd95-4714-b873-11e0fbbfa14c",
   "metadata": {},
   "outputs": [
    {
     "name": "stdout",
     "output_type": "stream",
     "text": [
      "Ship Mode        object\n",
      "Segment          object\n",
      "Country          object\n",
      "City             object\n",
      "State            object\n",
      "Postal Code       int64\n",
      "Region           object\n",
      "Category         object\n",
      "Sub-Category     object\n",
      "Sales           float64\n",
      "Quantity          int64\n",
      "Discount        float64\n",
      "Profit          float64\n",
      "dtype: object\n"
     ]
    }
   ],
   "source": [
    "print(df.dtypes)"
   ]
  },
  {
   "cell_type": "code",
   "execution_count": 4,
   "id": "7ce4a7d4-9f56-4d93-9ac8-8ee36928d1ce",
   "metadata": {},
   "outputs": [
    {
     "name": "stdout",
     "output_type": "stream",
     "text": [
      "Ship Mode       0\n",
      "Segment         0\n",
      "Country         0\n",
      "City            0\n",
      "State           0\n",
      "Postal Code     0\n",
      "Region          0\n",
      "Category        0\n",
      "Sub-Category    0\n",
      "Sales           0\n",
      "Quantity        0\n",
      "Discount        0\n",
      "Profit          0\n",
      "dtype: int64\n"
     ]
    }
   ],
   "source": [
    "print(df.isnull().sum())"
   ]
  },
  {
   "cell_type": "markdown",
   "id": "5ef036ba-06cf-4b66-b27f-86c8bcaeaea9",
   "metadata": {},
   "source": [
    "# Question 03"
   ]
  },
  {
   "cell_type": "code",
   "execution_count": 6,
   "id": "05d29342-c9c0-4bc5-87a3-1c9c483a5232",
   "metadata": {},
   "outputs": [
    {
     "name": "stdout",
     "output_type": "stream",
     "text": [
      "        Postal Code         Sales     Quantity     Discount       Profit\n",
      "count   9994.000000   9994.000000  9994.000000  9994.000000  9994.000000\n",
      "mean   55190.379428    229.858001     3.789574     0.156203    28.656896\n",
      "std    32063.693350    623.245101     2.225110     0.206452   234.260108\n",
      "min     1040.000000      0.444000     1.000000     0.000000 -6599.978000\n",
      "25%    23223.000000     17.280000     2.000000     0.000000     1.728750\n",
      "50%    56430.500000     54.490000     3.000000     0.200000     8.666500\n",
      "75%    90008.000000    209.940000     5.000000     0.200000    29.364000\n",
      "max    99301.000000  22638.480000    14.000000     0.800000  8399.976000\n"
     ]
    }
   ],
   "source": [
    "df = pd.read_csv('retail supermarket.csv')\n",
    "\n",
    "summary = df.describe()\n",
    "print(summary)"
   ]
  },
  {
   "cell_type": "markdown",
   "id": "a11326cd-cf31-49d6-a28f-10c37b497094",
   "metadata": {},
   "source": [
    "# Question 04"
   ]
  },
  {
   "cell_type": "code",
   "execution_count": 8,
   "id": "572152d4-d03f-4e0c-83a1-88c621afd6f0",
   "metadata": {},
   "outputs": [
    {
     "name": "stdout",
     "output_type": "stream",
     "text": [
      "        Ship Mode    Segment        Country             City       State  \\\n",
      "0    Second Class   Consumer  United States        Henderson    Kentucky   \n",
      "1    Second Class   Consumer  United States        Henderson    Kentucky   \n",
      "2    Second Class  Corporate  United States      Los Angeles  California   \n",
      "3  Standard Class   Consumer  United States  Fort Lauderdale     Florida   \n",
      "4  Standard Class   Consumer  United States  Fort Lauderdale     Florida   \n",
      "\n",
      "   Postal Code Region         Category Sub-Category     Sales  Quantity  \\\n",
      "0        42420  South        Furniture    Bookcases  261.9600         2   \n",
      "1        42420  South        Furniture       Chairs  731.9400         3   \n",
      "2        90036   West  Office Supplies       Labels   14.6200         2   \n",
      "3        33311  South        Furniture       Tables  957.5775         5   \n",
      "4        33311  South  Office Supplies      Storage   22.3680         2   \n",
      "\n",
      "   Discount    Profit  \n",
      "0      0.00   41.9136  \n",
      "1      0.00  219.5820  \n",
      "2      0.00    6.8714  \n",
      "3      0.45 -383.0310  \n",
      "4      0.20    2.5164  \n"
     ]
    }
   ],
   "source": [
    "rows = df.iloc[:5]\n",
    "print(rows)"
   ]
  },
  {
   "cell_type": "code",
   "execution_count": null,
   "id": "8481602c-75f8-4cdd-bbdc-2e1c0f67e43d",
   "metadata": {},
   "outputs": [],
   "source": []
  }
 ],
 "metadata": {
  "kernelspec": {
   "display_name": "Python 3 (ipykernel)",
   "language": "python",
   "name": "python3"
  },
  "language_info": {
   "codemirror_mode": {
    "name": "ipython",
    "version": 3
   },
   "file_extension": ".py",
   "mimetype": "text/x-python",
   "name": "python",
   "nbconvert_exporter": "python",
   "pygments_lexer": "ipython3",
   "version": "3.12.4"
  }
 },
 "nbformat": 4,
 "nbformat_minor": 5
}
